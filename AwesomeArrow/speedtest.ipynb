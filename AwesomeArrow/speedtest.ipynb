{
 "cells": [
  {
   "cell_type": "code",
   "execution_count": 1,
   "metadata": {},
   "outputs": [],
   "source": [
    "import pandas as pd\n",
    "import polars as pl\n",
    "import duckdb as db"
   ]
  },
  {
   "cell_type": "code",
   "execution_count": 2,
   "metadata": {},
   "outputs": [],
   "source": [
    "import numpy as np"
   ]
  },
  {
   "cell_type": "code",
   "execution_count": 3,
   "metadata": {},
   "outputs": [],
   "source": [
    "# Pandas"
   ]
  },
  {
   "cell_type": "code",
   "execution_count": 4,
   "metadata": {},
   "outputs": [],
   "source": [
    "df = pd.read_parquet('../AwesomeDAG/dags/data/names.parquet').reset_index()"
   ]
  },
  {
   "cell_type": "code",
   "execution_count": 5,
   "metadata": {},
   "outputs": [
    {
     "data": {
      "text/plain": [
       "0.9536769252345741"
      ]
     },
     "execution_count": 5,
     "metadata": {},
     "output_type": "execute_result"
    }
   ],
   "source": [
    "df['birthYear'].isna().mean()"
   ]
  },
  {
   "cell_type": "code",
   "execution_count": 6,
   "metadata": {},
   "outputs": [],
   "source": [
    "df.loc[df['birthYear'].isna(),'birthYear'] = np.random.randint(df['birthYear'].quantile(.25),df['birthYear'].max(),df['birthYear'].isna().sum())\n",
    "df.loc[df['deathYear'].isna(),'deathYear'] = df['birthYear'] + np.random.randint(12,80,df.shape[0])"
   ]
  },
  {
   "cell_type": "code",
   "execution_count": 7,
   "metadata": {},
   "outputs": [
    {
     "name": "stdout",
     "output_type": "stream",
     "text": [
      "468 ms ± 26.3 ms per loop (mean ± std. dev. of 7 runs, 1 loop each)\n"
     ]
    }
   ],
   "source": [
    "%%timeit\n",
    "df.groupby(['birthYear',df['deathYear'].isna(),'primaryProfession_actor']).agg({'nconst':'count','primaryProfession_director':'mean'})"
   ]
  },
  {
   "cell_type": "code",
   "execution_count": 8,
   "metadata": {},
   "outputs": [],
   "source": [
    "# Polars"
   ]
  },
  {
   "cell_type": "code",
   "execution_count": 9,
   "metadata": {},
   "outputs": [],
   "source": [
    "df_pl = pl.read_parquet('../AwesomeDAG/dags/data/names.parquet')"
   ]
  },
  {
   "cell_type": "code",
   "execution_count": 10,
   "metadata": {},
   "outputs": [],
   "source": [
    "df_pl = pl.from_dataframe(df.drop('knownForTitles',axis=1))"
   ]
  },
  {
   "cell_type": "code",
   "execution_count": 11,
   "metadata": {},
   "outputs": [
    {
     "name": "stdout",
     "output_type": "stream",
     "text": [
      "349 ms ± 25 ms per loop (mean ± std. dev. of 7 runs, 1 loop each)\n"
     ]
    }
   ],
   "source": [
    "%%timeit\n",
    "df_pl.groupby(['birthYear',pl.col('deathYear').is_null(),'primaryProfession_actor']).agg([pl.col('nconst').count(),pl.col('primaryProfession_director').mean()])"
   ]
  },
  {
   "cell_type": "code",
   "execution_count": 12,
   "metadata": {},
   "outputs": [],
   "source": [
    "# duckdb"
   ]
  },
  {
   "cell_type": "code",
   "execution_count": 13,
   "metadata": {},
   "outputs": [],
   "source": [
    "conn = db.connect()\n",
    "df_db = conn.execute('''\n",
    "                    create temp table data\n",
    "                    as\n",
    "                    select \n",
    "                    *\n",
    "                    from read_parquet('../AwesomeDAG/dags/data/names.parquet')\n",
    "                    ''')\n",
    "conn.close()"
   ]
  },
  {
   "cell_type": "code",
   "execution_count": 14,
   "metadata": {},
   "outputs": [],
   "source": [
    "conn = db.connect()\n",
    "df_db = conn.execute('''\n",
    "                    create temp table my_data as select * from df\n",
    "                    ''')"
   ]
  },
  {
   "cell_type": "code",
   "execution_count": 17,
   "metadata": {},
   "outputs": [
    {
     "name": "stdout",
     "output_type": "stream",
     "text": [
      "70.8 µs ± 1.17 µs per loop (mean ± std. dev. of 7 runs, 10000 loops each)\n"
     ]
    }
   ],
   "source": [
    "%%timeit\n",
    "df_db.query('''\n",
    "\n",
    "            select \n",
    "            birthYear,\n",
    "            deathYear is NULL as is_alive,\n",
    "            primaryProfession_actor,\n",
    "            count(nconst) as cnt,\n",
    "            avg(primaryProfession_director) as avg_dir_act\n",
    "            from my_data\n",
    "            group by 1,2,3\n",
    "\n",
    "            ''')"
   ]
  },
  {
   "cell_type": "code",
   "execution_count": 16,
   "metadata": {},
   "outputs": [
    {
     "name": "stdout",
     "output_type": "stream",
     "text": [
      "39.8 ms ± 350 µs per loop (mean ± std. dev. of 7 runs, 10 loops each)\n"
     ]
    }
   ],
   "source": [
    "%%timeit\n",
    "df_db.query('''\n",
    "\n",
    "            select \n",
    "            birthYear,\n",
    "            deathYear is NULL as is_alive,\n",
    "            primaryProfession_actor,\n",
    "            count(nconst) as cnt,\n",
    "            avg(primaryProfession_director) as avg_dir_act\n",
    "            from my_data\n",
    "            group by 1,2,3\n",
    "\n",
    "            ''').df()"
   ]
  }
 ],
 "metadata": {
  "kernelspec": {
   "display_name": "Python 3",
   "language": "python",
   "name": "python3"
  },
  "language_info": {
   "codemirror_mode": {
    "name": "ipython",
    "version": 3
   },
   "file_extension": ".py",
   "mimetype": "text/x-python",
   "name": "python",
   "nbconvert_exporter": "python",
   "pygments_lexer": "ipython3",
   "version": "3.8.10"
  },
  "orig_nbformat": 4
 },
 "nbformat": 4,
 "nbformat_minor": 2
}
